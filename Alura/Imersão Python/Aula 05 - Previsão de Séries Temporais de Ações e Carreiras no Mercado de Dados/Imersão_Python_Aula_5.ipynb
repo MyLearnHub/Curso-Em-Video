{
  "nbformat": 4,
  "nbformat_minor": 0,
  "metadata": {
    "colab": {
      "provenance": []
    },
    "kernelspec": {
      "name": "python3",
      "display_name": "Python 3"
    },
    "language_info": {
      "name": "python"
    }
  },
  "cells": [
    {
      "cell_type": "code",
      "execution_count": 1,
      "metadata": {
        "id": "Oh0cL1uQvYvH"
      },
      "outputs": [],
      "source": [
        "import pandas as pd\n",
        "import yfinance as yf\n",
        "import matplotlib.pyplot as plt\n",
        "from prophet import Prophet"
      ]
    },
    {
      "cell_type": "code",
      "source": [
        "dados = yf.download(\"JNJ\", start=\"2020-01-01\", end=\"2023-12-31\", progress=False)\n",
        "dados = dados.reset_index()\n",
        "dados"
      ],
      "metadata": {
        "id": "sd81u_inPs--"
      },
      "execution_count": null,
      "outputs": []
    },
    {
      "cell_type": "code",
      "source": [
        "dados_treino = dados[dados['Date'] < '2023-07-31']\n",
        "dados_teste = dados[dados['Date'] >= '2023-07-31']"
      ],
      "metadata": {
        "id": "0xYANFzxQd_8"
      },
      "execution_count": 4,
      "outputs": []
    },
    {
      "cell_type": "code",
      "source": [
        "dados_prophet_treino = dados_treino[['Date', 'Close']].rename(columns={'Date': 'ds', 'Close': 'y'})\n",
        "dados_prophet_treino"
      ],
      "metadata": {
        "id": "pQYyfFF0Q9bt"
      },
      "execution_count": null,
      "outputs": []
    },
    {
      "cell_type": "code",
      "source": [
        "modelo = Prophet(weekly_seasonality=True,\n",
        "        yearly_seasonality=True,\n",
        "        daily_seasonality=False)\n",
        "\n",
        "modelo.add_country_holidays(country_name='US')\n",
        "\n",
        "modelo.fit(dados_prophet_treino)"
      ],
      "metadata": {
        "id": "gj01uoOwRpBK"
      },
      "execution_count": null,
      "outputs": []
    },
    {
      "cell_type": "code",
      "source": [
        "futuro = modelo.make_future_dataframe(periods=150)\n",
        "previsao = modelo.predict(futuro)"
      ],
      "metadata": {
        "id": "9xW4o8vHSi5x"
      },
      "execution_count": 8,
      "outputs": []
    },
    {
      "cell_type": "code",
      "source": [
        "plt.figure(figsize=(14, 8))\n",
        "plt.plot(dados_treino['Date'], dados_treino['Close'], label='Dados de Treino', color='blue')\n",
        "plt.plot(dados_teste['Date'], dados_teste['Close'], label='Dados Reais (Teste)', color='green')\n",
        "plt.plot(previsao['ds'], previsao['yhat'], label='Previsão', color='orange', linestyle='--')\n",
        "\n",
        "plt.axvline(dados_treino['Date'].max(), color='red', linestyle='--', label='Início da Previsão')\n",
        "plt.xlabel('Data')\n",
        "plt.ylabel('Preço de Fechamento')\n",
        "plt.title('Previsão de Preço de Fechamento vs Dados Reais')\n",
        "plt.legend()\n",
        "plt.show()"
      ],
      "metadata": {
        "id": "c-7C9iVSS93Y"
      },
      "execution_count": null,
      "outputs": []
    }
  ]
}