{
  "cells": [
    {
      "cell_type": "markdown",
      "metadata": {
        "id": "_dU3jthCneF4"
      },
      "source": [
        "**Aula 2 - Importação**"
      ]
    },
    {
      "cell_type": "code",
      "execution_count": 44,
      "metadata": {
        "id": "B5p6j_vTl-LL"
      },
      "outputs": [],
      "source": [
        "import pandas as pd"
      ]
    },
    {
      "cell_type": "code",
      "execution_count": null,
      "metadata": {
        "id": "w0mzs33lnj1y"
      },
      "outputs": [],
      "source": [
        "df_principal = pd.read_excel(\"/content/planilha_imersao_python.xlsx\", sheet_name=\"Principal\")\n",
        "df_principal"
      ]
    },
    {
      "cell_type": "code",
      "execution_count": null,
      "metadata": {
        "id": "mIw_NCwHoBg6"
      },
      "outputs": [],
      "source": [
        "df_total_acoes = pd.read_excel(\"/content/planilha_imersao_python.xlsx\", sheet_name=\"Total_de_acoes\")\n",
        "df_total_acoes"
      ]
    },
    {
      "cell_type": "code",
      "execution_count": null,
      "metadata": {
        "id": "84EkdiuHoVLd"
      },
      "outputs": [],
      "source": [
        "df_ticker = pd.read_excel(\"/content/planilha_imersao_python.xlsx\", sheet_name=\"Ticker\")\n",
        "df_ticker"
      ]
    },
    {
      "cell_type": "code",
      "execution_count": null,
      "metadata": {
        "id": "UnYlJOF1omwN"
      },
      "outputs": [],
      "source": [
        "df_chatgpt = pd.read_excel(\"/content/planilha_imersao_python.xlsx\", sheet_name=\"Chatgpt\")\n",
        "df_chatgpt"
      ]
    }
  ],
  "metadata": {
    "colab": {
      "provenance": []
    },
    "kernelspec": {
      "display_name": "Python 3",
      "name": "python3"
    },
    "language_info": {
      "name": "python"
    }
  },
  "nbformat": 4,
  "nbformat_minor": 0
}
